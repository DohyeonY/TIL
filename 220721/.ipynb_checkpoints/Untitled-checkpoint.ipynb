{
 "cells": [
  {
   "cell_type": "code",
   "execution_count": null,
   "id": "971e696a",
   "metadata": {},
   "outputs": [],
   "source": [
    "# 0721 3일차 실습과제 3-6\n",
    "year = int(input())\n",
    "\n",
    "if year % 4 == 0 and year % 100 != 0 :\n",
    "    print('윤년')\n",
    "elif year % 400 == 0 :\n",
    "    print('윤년')\n",
    "        \n",
    "else :\n",
    "     print('아님')"
   ]
  },
  {
   "cell_type": "code",
   "execution_count": null,
   "id": "ab6d4b6d",
   "metadata": {},
   "outputs": [],
   "source": [
    "infos = [{'name': 'kim', 'age': 12}, {'name': 'lee', 'age': 4}]\n",
    "\n"
   ]
  },
  {
   "cell_type": "code",
   "execution_count": null,
   "id": "bdce59c6",
   "metadata": {},
   "outputs": [],
   "source": [
    "N = int(input())\n",
    "scores = list(map(int, input().split()))\n",
    "scores.sort()\n",
    "\n",
    "for i in range(N) :\n",
    "    if i == N//2 :\n",
    "        print(scores[i])\n",
    "        break"
   ]
  },
  {
   "cell_type": "code",
   "execution_count": null,
   "id": "2901e467",
   "metadata": {},
   "outputs": [],
   "source": [
    "a = input().split()\n",
    "a.sort()\n",
    "\n",
    "n=len(a)\n",
    "if n%2 == 1 :\n",
    "    result = numbers[int(n/2)]\n",
    "\n",
    "elif n%2 ==0: \n",
    "    result = numbers[int(n/2)-1]\n",
    "\n",
    "print(result)"
   ]
  },
  {
   "cell_type": "code",
   "execution_count": null,
   "id": "5d070428",
   "metadata": {},
   "outputs": [],
   "source": [
    "infos = [{'name': 'kim', 'age': 12}, {'name': 'lee', 'age': 4}]\n",
    "\n",
    "age = 0\n",
    "\n",
    "for i in infos:\n",
    "    age += i['age']\n",
    "\n",
    "print(age)\n"
   ]
  },
  {
   "cell_type": "code",
   "execution_count": null,
   "id": "93843aee",
   "metadata": {},
   "outputs": [],
   "source": [
    "## 0721 실습과제 3-4\n",
    "blood_types = [ 'A','A','O', 'B', 'A', 'O', 'AB','O', 'A', 'B', 'O', 'B', 'AB']\n",
    "\n",
    "dic = dict.fromkeys(blood_types,0)\n",
    "for blood_type in blood_types:\n",
    "    dic[blood_type] += 1\n",
    "print(dic)"
   ]
  },
  {
   "cell_type": "code",
   "execution_count": null,
   "id": "b49f26a6",
   "metadata": {},
   "outputs": [],
   "source": [
    "d = {'a' : 2, 'b' : 3, 'c' : 4}\n",
    "lst=[]\n",
    "for i in d :\n",
    "    lst.append(d[i])\n",
    "sum(lst)\n",
    "print(sum(lst))"
   ]
  },
  {
   "cell_type": "code",
   "execution_count": null,
   "id": "f1e09181",
   "metadata": {},
   "outputs": [],
   "source": [
    "## 0720 실습과제 2-2\n",
    "s = input()\n",
    "\n",
    "s = s.strip('@#~!><')\n",
    "\n",
    "s =s[:1] + s[1:].lower()\n",
    "\n",
    "print(s)"
   ]
  },
  {
   "cell_type": "code",
   "execution_count": null,
   "id": "9eb057ca",
   "metadata": {},
   "outputs": [],
   "source": [
    "## 0720 실습과제 2-3\n",
    "\n",
    "word = input().split()\n",
    "\n",
    "if word[0][-1].lower() == word[1][0].lower() and word[1][-1].lower() == word[2][0].lower() :\n",
    "    print('Pass')\n",
    "else :\n",
    "    print('Fail')\n",
    "    \n"
   ]
  },
  {
   "cell_type": "code",
   "execution_count": null,
   "id": "678aa58d",
   "metadata": {},
   "outputs": [],
   "source": [
    "## 0720 실습과제 2-4\n",
    "\n",
    "# 스테이크   50,000\n",
    "# + VAT     7,500\n",
    "# 총계 ₩    57,500\n",
    "\n",
    "steak = '50,000'\n",
    "vat = '7,500'\n",
    "hap = '57,500'\n",
    "\n",
    "print(f\"스테이크 {steak} \\n+ vat {vat} \\n총계 \\ {hap}\")\n",
    "\n"
   ]
  },
  {
   "cell_type": "code",
   "execution_count": null,
   "id": "08cfa19a",
   "metadata": {},
   "outputs": [],
   "source": [
    "steak = 50000\n",
    "vat = int(steak * 0.15)\n",
    "\n",
    "#string interpolation 활용\n",
    "print(f'스테이크 {steak} \\n+ VAT {vat} \\n총계 ₩ {steak + vat} ')"
   ]
  },
  {
   "cell_type": "code",
   "execution_count": null,
   "id": "ffd178dc",
   "metadata": {},
   "outputs": [],
   "source": [
    "cae = [('고구마',3000), ('감자',2000), ('옥수수',4500),('토란',1300)]\n",
    "\n",
    "cdic = dict.fromkeys(cae, 0)\n",
    "\n",
    "print(cdic)"
   ]
  },
  {
   "cell_type": "code",
   "execution_count": null,
   "id": "46137e48",
   "metadata": {},
   "outputs": [],
   "source": [
    "## 0721 실습과제 3-2\n",
    "jong = input()\n",
    "\n",
    "jonglen = len(jong)\n",
    "\n",
    "if jonglen%2:\n",
    "    print(jong[jonglen//2])\n",
    "else:\n",
    "    print(jong[jonglen//2-1:jonglen//2+1])"
   ]
  },
  {
   "cell_type": "code",
   "execution_count": null,
   "id": "7bbb92fc",
   "metadata": {},
   "outputs": [],
   "source": [
    "## 0721 실습과제 3-4\n",
    "s_triangle = list(map(int,input().split()))\n",
    "s_triangle.sort()\n",
    "\n",
    "if (s_triangle[0] + s_triangle[1]) > s_triangle[2] :\n",
    "    if s_triangle[0] == s_triangle[1] == s_triangle[2] :\n",
    "        print('정삼각형')\n",
    "    elif s_triangle[0] == s_triangle[1] or s_triangle[1] == s_triangle[2] or s_triangle[0] == s_triangle[2] :\n",
    "        print('이등변삼각형')\n",
    "    elif s_triangle[0] ** 2 + s_triangle[1] ** 2 == s_triangle[2] ** 2 :\n",
    "        print('직각삼각형')\n",
    "    elif (s_triangle[0] + s_triangle[1]) > s_triangle[2] :\n",
    "        print('그냥 삼각형')\n",
    "else :\n",
    "    print('삼각형이 아님')\n"
   ]
  },
  {
   "cell_type": "code",
   "execution_count": null,
   "id": "65ac9611",
   "metadata": {},
   "outputs": [],
   "source": [
    "## 0721 실습과제 4-1\n",
    "pw = '****'\n",
    "\n",
    "for a in range(3):\n",
    "    putpw = input('비밀번호를 입력하세요.: ')\n",
    "    if putpw != pw:\n",
    "        print('비밀번호가 틀렸습니다.')\n",
    "        \n",
    "    else :\n",
    "        print('비밀번호가 맞습니다.')\n",
    "    break"
   ]
  },
  {
   "cell_type": "code",
   "execution_count": null,
   "id": "804b6cb5",
   "metadata": {},
   "outputs": [],
   "source": [
    "# 과제 2-7\n",
    "\n",
    "orders = '아이스아메리카노,카라멜마키야또,에스프레소,아메리카노,아메리카노,아이스라떼,핫초코,아이스아메리카노,아메리카노,아이스카라멜마키야또,아이스라떼,라떼마키야또,카푸치노,라떼마키야또'\n",
    "orders = orders.split(',')\n",
    "\n",
    "ice_cnt = 0\n",
    "\n",
    "for order in orders :\n",
    "  if '아이스' in order :\n",
    "    ice_cnt += 1\n",
    "  \n",
    "print(ice_cnt)\n",
    "\n",
    "order_dict = {}\n",
    "for order in orders :\n",
    "  if order in order_dict : #키가 존재하면\n",
    "    order_dict[order] += 1\n",
    "  else:                    #키가 없으면\n",
    "    order_dict[order] = 1\n",
    "\n",
    "print(order_dict)"
   ]
  },
  {
   "cell_type": "code",
   "execution_count": null,
   "id": "937d7697",
   "metadata": {},
   "outputs": [],
   "source": [
    "# 과제 2-6\n",
    "\n",
    "orders = '아이스아메리카노,카라멜마키야또,에스프레소,아메리카노,아메리카노,아이스라떼,핫초코,아이스아메리카노,아메리카노,아이스카라멜마키야또,아이스라떼,라떼마키야또,카푸치노,라떼마키야또'\n",
    "\n",
    "orders_list = orders.split(',') # order에 쉼표를 기준으로 자르시오.\n",
    "\n",
    "orders_list = list(set(orders_list))\n",
    "\n",
    "orders_list.sort(reverse=True)\n",
    "\n",
    "print(orders_list)"
   ]
  },
  {
   "cell_type": "code",
   "execution_count": null,
   "id": "59ae44d0",
   "metadata": {},
   "outputs": [],
   "source": [
    "## 0721 실습과제 4-2\n",
    "students = ['박해피', '이영희', '조민지', '조민지', \n",
    "            '김철수', '이영희', '이영희', '김해킹',\n",
    "            '박해피', '김철수', '한케이', '강디티',\n",
    "            '조민지', '박해피', '김철수', '이영희',\n",
    "            '박해피', '김해킹', '박해피', '한케이','강디티']\n",
    "\n",
    "stu = dict.fromkeys(students, 0)\n",
    "\n",
    "for st in students :\n",
    "    stu[st] += 1\n",
    "    \n",
    "sorted(stu.items(), key = lambda x : x[1])\n",
    "print(stu)\n"
   ]
  },
  {
   "cell_type": "code",
   "execution_count": 5,
   "id": "832fd3b8",
   "metadata": {},
   "outputs": [
    {
     "name": "stdout",
     "output_type": "stream",
     "text": [
      "[1, 3, 0, 1]\n"
     ]
    }
   ],
   "source": [
    "## 0721 실습과제 4-3\n",
    "\n",
    "def same(a) :\n",
    "    \n",
    "    result = []\n",
    "    \n",
    "    for i in range(len(a)) :\n",
    "        if i == 0 :\n",
    "            result.append(a[i])\n",
    "        elif a[i] != a[i-1] :\n",
    "            result.append(a[i])\n",
    "            \n",
    "    return result\n",
    "\n",
    "print(same([1,1,3,3,0,1,1]))"
   ]
  },
  {
   "cell_type": "code",
   "execution_count": null,
   "id": "b0afde74",
   "metadata": {},
   "outputs": [],
   "source": [
    "\n",
    "\n",
    "for x in range(0,10):\n",
    "    firstword=input(\"첫 단어를 입력하세요?:\")\n",
    "    print(\"GOOD\")\n",
    "    for i in range(0,10):\n",
    "        secondword=input(\"다음 단어를 입력하세요?:\")\n",
    "        if firstword[-1]==secondword[0]:\n",
    "            print('GOOD')\n",
    "            firstword=secondword\n",
    "            \n",
    "        else:\n",
    "            print('틀린단어입니다.DONE')\n",
    "            break"
   ]
  },
  {
   "cell_type": "code",
   "execution_count": 19,
   "id": "8f5b6e1d",
   "metadata": {},
   "outputs": [
    {
     "name": "stdout",
     "output_type": "stream",
     "text": [
      "{3000: '고구마', 2000: '감자', 4500: '옥수수', 1300: '토란'}\n",
      "옥수수\n"
     ]
    }
   ],
   "source": [
    "## 0721 실습과제 2-5\n",
    "lst = [('고구마',3000), ('감자',2000), ('옥수수',4500),('토란',1300)]\n",
    "n_lst =dict(lst)\n",
    "    \n",
    "mx = max(n_lst.values())\n",
    "\n",
    "reserve_dict = dict(map(reversed, n_lst.items())) # key값과 value값을 반대로 돌려서 key 맥스값을 찾아 출력\n",
    "\n",
    "print(reserve_dict)\n",
    "print(reserve_dict[mx])"
   ]
  },
  {
   "cell_type": "code",
   "execution_count": 15,
   "id": "e274fca5",
   "metadata": {},
   "outputs": [
    {
     "name": "stdout",
     "output_type": "stream",
     "text": [
      "첫 번째 이름을 입력하세요 : adfds\n",
      "두 번째 이름을 입력하세요 : yuyfh\n",
      "adfds < yuyfh\n"
     ]
    }
   ],
   "source": [
    "word1 = input('첫 번째 이름을 입력하세요 : ')\n",
    "word2  = input('두 번째 이름을 입력하세요 : ')\n",
    "\n",
    "sumV = 0\n",
    "for v1 in word1 :\n",
    "    sumV += ord(v1)\n",
    "    \n",
    "sumV2 = 0\n",
    "for v2 in word2 :\n",
    "    sumV2 += ord(v2)\n",
    "    \n",
    "if sumV < sumV2 :\n",
    "    print(f'{word1} < {word2}')\n",
    "          \n",
    "else :\n",
    "    print(f'{word1} > {word2}')\n",
    "\n"
   ]
  },
  {
   "cell_type": "code",
   "execution_count": null,
   "id": "6e5d53b1",
   "metadata": {},
   "outputs": [],
   "source": [
    "word1 = input('첫 번째 이름을 입력하세요 : ')\n",
    "word2  = input('두 번째 이름을 입력하세요 : ')\n",
    "\n",
    "def mysum(lst) :\n",
    "    sumV = 0\n",
    "    for v1 in strV:\n",
    "        sum += ord(v1)\n",
    "    return sumV"
   ]
  },
  {
   "cell_type": "code",
   "execution_count": 17,
   "id": "e28d397b",
   "metadata": {},
   "outputs": [
    {
     "name": "stdout",
     "output_type": "stream",
     "text": [
      "첫 번째 이름을 입력하세요 : fdgajkh\n",
      "두 번째 이름을 입력하세요 : khgraiuf\n",
      "fdgajkh < khgraiuf\n"
     ]
    }
   ],
   "source": [
    "## 0721 실습과제 4-4\n",
    "word1 = input('첫 번째 이름을 입력하세요 : ')\n",
    "word2  = input('두 번째 이름을 입력하세요 : ')\n",
    "\n",
    "wlst1 = map(ord, word1)\n",
    "wlst2 = map(ord, word2)\n",
    "if sum(wlst1) < sum(wlst2):\n",
    "    print(f'{word1} < {word2}')\n",
    "else:\n",
    "    print(f'{word1} > {word2}')"
   ]
  },
  {
   "cell_type": "code",
   "execution_count": 24,
   "id": "23e18f50",
   "metadata": {},
   "outputs": [],
   "source": [
    "def solution(n, words):\n",
    "    length = len(words)\n",
    "    for i in range(1, length):\n",
    "        if words[i - 1][-1] != words[i][0]:\n",
    "            return [i % n + 1, i // n + 1]\n",
    "        elif words[i] in words[:i]:\n",
    "            return [i % n + 1, i // n + 1]\n",
    "        elif len(words[i]) == 1:\n",
    "            return [i % n + 1, i // n + 1]\n",
    "    return [0, 0]"
   ]
  },
  {
   "cell_type": "code",
   "execution_count": 25,
   "id": "66da20d4",
   "metadata": {},
   "outputs": [
    {
     "name": "stdout",
     "output_type": "stream",
     "text": [
      "0 : 이름 한사람\n",
      "1 : 나이 33\n",
      "\n"
     ]
    }
   ],
   "source": [
    "dict1 = {'이름': '한사람', '나이': 33}\n",
    "data = enumerate(dict1)\n",
    "for i, key in data:\n",
    "    print(i, \":\", key, dict1[key])\n",
    "print()"
   ]
  },
  {
   "cell_type": "code",
   "execution_count": null,
   "id": "35a22180",
   "metadata": {},
   "outputs": [],
   "source": [
    "end = ['round','dream','magnet','tweet','tweet','trick','kiwi']\n",
    "\n",
    "for idx, letter in enumerate(end) :  # enumerate로 인덱스와 값을 모두 전달\n",
    "    if idx > 0 :    # 첫번째건 볼 필요없어서 2번째 단어부터\n",
    "        if letter[0] != end[idx-1][-1]:       # idx번째 단어의 첫글자와 idx-1번째 단어의 마지막글자 비교\n",
    "            print(f'{idx+1}번 탈락')\n",
    "            break\n",
    "        if letter in end[:(idx-1)] :     # end 리스트의 끝까지 확인결과 단어가 존재하면 탈락\n",
    "            print(f'{idx+1}번 탈락')\n",
    "            break\n",
    "    \n",
    "print('굿')"
   ]
  }
 ],
 "metadata": {
  "kernelspec": {
   "display_name": "Python 3 (ipykernel)",
   "language": "python",
   "name": "python3"
  },
  "language_info": {
   "codemirror_mode": {
    "name": "ipython",
    "version": 3
   },
   "file_extension": ".py",
   "mimetype": "text/x-python",
   "name": "python",
   "nbconvert_exporter": "python",
   "pygments_lexer": "ipython3",
   "version": "3.7.9"
  },
  "toc": {
   "base_numbering": 1,
   "nav_menu": {},
   "number_sections": true,
   "sideBar": true,
   "skip_h1_title": false,
   "title_cell": "Table of Contents",
   "title_sidebar": "Contents",
   "toc_cell": false,
   "toc_position": {},
   "toc_section_display": true,
   "toc_window_display": false
  }
 },
 "nbformat": 4,
 "nbformat_minor": 5
}
