{
 "cells": [
  {
   "cell_type": "code",
   "execution_count": 2,
   "id": "fb887f68",
   "metadata": {},
   "outputs": [
    {
     "data": {
      "text/plain": [
       "True"
      ]
     },
     "execution_count": 2,
     "metadata": {},
     "output_type": "execute_result"
    }
   ],
   "source": [
    "import math\n",
    "\n",
    "num1 = 0.1 * 3\n",
    "num2 = 0.3\n",
    "\n",
    "math.isclose(num1, num2)"
   ]
  },
  {
   "cell_type": "code",
   "execution_count": 3,
   "id": "f7c9b033",
   "metadata": {},
   "outputs": [
    {
     "data": {
      "text/plain": [
       "'안녕, 철수야'"
      ]
     },
     "execution_count": 3,
     "metadata": {},
     "output_type": "execute_result"
    }
   ],
   "source": [
    "name = '철수'\n",
    "\n",
    "f'안녕, {name}야'"
   ]
  },
  {
   "cell_type": "code",
   "execution_count": 4,
   "id": "c4b05855",
   "metadata": {},
   "outputs": [
    {
     "data": {
      "text/plain": [
       "'1'"
      ]
     },
     "execution_count": 4,
     "metadata": {},
     "output_type": "execute_result"
    }
   ],
   "source": [
    "str(1)"
   ]
  },
  {
   "cell_type": "code",
   "execution_count": 5,
   "id": "e7e9e6b0",
   "metadata": {},
   "outputs": [
    {
     "data": {
      "text/plain": [
       "30"
      ]
     },
     "execution_count": 5,
     "metadata": {},
     "output_type": "execute_result"
    }
   ],
   "source": [
    "int('30')"
   ]
  },
  {
   "cell_type": "code",
   "execution_count": 6,
   "id": "074b07eb",
   "metadata": {},
   "outputs": [
    {
     "data": {
      "text/plain": [
       "5"
      ]
     },
     "execution_count": 6,
     "metadata": {},
     "output_type": "execute_result"
    }
   ],
   "source": [
    "int(5)"
   ]
  },
  {
   "cell_type": "code",
   "execution_count": 7,
   "id": "2df5c305",
   "metadata": {},
   "outputs": [
    {
     "data": {
      "text/plain": [
       "True"
      ]
     },
     "execution_count": 7,
     "metadata": {},
     "output_type": "execute_result"
    }
   ],
   "source": [
    "bool('50')"
   ]
  },
  {
   "cell_type": "code",
   "execution_count": 8,
   "id": "390619b5",
   "metadata": {},
   "outputs": [
    {
     "ename": "ValueError",
     "evalue": "invalid literal for int() with base 10: '3.5'",
     "output_type": "error",
     "traceback": [
      "\u001b[1;31m---------------------------------------------------------------------------\u001b[0m",
      "\u001b[1;31mValueError\u001b[0m                                Traceback (most recent call last)",
      "\u001b[1;32m~\\AppData\\Local\\Temp\\ipykernel_8276\\509476775.py\u001b[0m in \u001b[0;36m<module>\u001b[1;34m\u001b[0m\n\u001b[1;32m----> 1\u001b[1;33m \u001b[0mint\u001b[0m\u001b[1;33m(\u001b[0m\u001b[1;34m'3.5'\u001b[0m\u001b[1;33m)\u001b[0m\u001b[1;33m\u001b[0m\u001b[1;33m\u001b[0m\u001b[0m\n\u001b[0m",
      "\u001b[1;31mValueError\u001b[0m: invalid literal for int() with base 10: '3.5'"
     ]
    }
   ],
   "source": [
    "int('3.5')"
   ]
  },
  {
   "cell_type": "code",
   "execution_count": 10,
   "id": "fafbb9d5",
   "metadata": {},
   "outputs": [
    {
     "ename": "SyntaxError",
     "evalue": "unexpected character after line continuation character (1659848624.py, line 1)",
     "output_type": "error",
     "traceback": [
      "\u001b[1;36m  File \u001b[1;32m\"C:\\Users\\multicampus\\AppData\\Local\\Temp\\ipykernel_8276\\1659848624.py\"\u001b[1;36m, line \u001b[1;32m1\u001b[0m\n\u001b[1;33m    print('*'*5, \\n '*'*5)\u001b[0m\n\u001b[1;37m                          ^\u001b[0m\n\u001b[1;31mSyntaxError\u001b[0m\u001b[1;31m:\u001b[0m unexpected character after line continuation character\n"
     ]
    }
   ],
   "source": [
    "print('*'*5)\n",
    "print('*'*5)\n",
    "print('*'*5)\n",
    "print('*'*5)\n",
    "print('*'*5)\n",
    "print('*'*5)\n",
    "print('*'*5)\n",
    "print('*'*5)\n"
   ]
  },
  {
   "cell_type": "code",
   "execution_count": 17,
   "id": "6538554c",
   "metadata": {},
   "outputs": [
    {
     "name": "stdout",
     "output_type": "stream",
     "text": [
      "\"파일은 c:\\Windows\\Users\\내문서\\Python에 저장이 되었습니다.\" \n",
      "나는 생각했다. 'cd를 써서 git bash로 들아가 봐야지.'\n"
     ]
    }
   ],
   "source": [
    "print('\"파일은 c:\\Windows\\\\Users\\내문서\\Python에 저장이 되었습니다.\" \\n나는 생각했다. \\'cd를 써서 git bash로 들아가 봐야지.\\'')"
   ]
  },
  {
   "cell_type": "code",
   "execution_count": 26,
   "id": "ac34db4f",
   "metadata": {},
   "outputs": [
    {
     "name": "stdout",
     "output_type": "stream",
     "text": [
      "*****\n",
      "*****\n",
      "*****\n",
      "*****\n",
      "*****\n",
      "*****\n",
      "*****\n",
      "*****\n",
      "*****\n"
     ]
    }
   ],
   "source": [
    "print('*'*5 + '\\n' + '*'*5 + '\\n'+ '*'*5 + '\\n'+ '*'*5 + '\\n'+ '*'*5 + '\\n' +'*'*5 + '\\n'+ '*'*5 + '\\n'+ '*'*5 + '\\n' +'*'*5)"
   ]
  },
  {
   "cell_type": "code",
   "execution_count": 27,
   "id": "889b1164",
   "metadata": {},
   "outputs": [
    {
     "name": "stdout",
     "output_type": "stream",
     "text": [
      "It' SSAFY 8\n"
     ]
    }
   ],
   "source": [
    "print(\"It\\' SSAFY 8\")"
   ]
  },
  {
   "cell_type": "code",
   "execution_count": 28,
   "id": "72714fc6",
   "metadata": {},
   "outputs": [
    {
     "name": "stdout",
     "output_type": "stream",
     "text": [
      "1081921\n"
     ]
    }
   ],
   "source": [
    "a = 458345\n",
    "b = 623576\n",
    "\n",
    "print(a + b)\n"
   ]
  },
  {
   "cell_type": "code",
   "execution_count": 30,
   "id": "505d8ac5",
   "metadata": {},
   "outputs": [
    {
     "name": "stdout",
     "output_type": "stream",
     "text": [
      "hello July\n"
     ]
    }
   ],
   "source": [
    "greeting = 'hello'\n",
    "\n",
    "month = 'July'\n",
    "\n",
    "print(greeting + \" \" + month)"
   ]
  },
  {
   "cell_type": "code",
   "execution_count": 32,
   "id": "5d7c7b03",
   "metadata": {},
   "outputs": [
    {
     "name": "stdout",
     "output_type": "stream",
     "text": [
      "Hello! SSAFY 8\n",
      "Hello! SSAFY 8\n"
     ]
    }
   ],
   "source": [
    "hello = input()\n",
    "print(hello)"
   ]
  },
  {
   "cell_type": "code",
   "execution_count": 41,
   "id": "efe06bb4",
   "metadata": {},
   "outputs": [
    {
     "name": "stdout",
     "output_type": "stream",
     "text": [
      "6374 8729\n",
      "15103\n"
     ]
    }
   ],
   "source": [
    "a, b = input().split()\n",
    "\n",
    "a = int(a)\n",
    "b = int(b)\n",
    "\n",
    "print(a + b)"
   ]
  },
  {
   "cell_type": "code",
   "execution_count": 52,
   "id": "2e14a258",
   "metadata": {},
   "outputs": [
    {
     "name": "stdout",
     "output_type": "stream",
     "text": [
      "5000\n",
      "7666.666666666667\n"
     ]
    }
   ],
   "source": [
    "lun = {'자장면' : '5000', '잠봉' : '6000', '당수육' : '12000'}\n",
    "print(lun['자장면'])\n",
    "print((int(lun['자장면']) + int(lun['잠봉']) + int(lun['당수육'])) / 3)"
   ]
  },
  {
   "cell_type": "code",
   "execution_count": null,
   "id": "9f00eac2",
   "metadata": {},
   "outputs": [],
   "source": []
  }
 ],
 "metadata": {
  "kernelspec": {
   "display_name": "Python 3 (ipykernel)",
   "language": "python",
   "name": "python3"
  },
  "language_info": {
   "codemirror_mode": {
    "name": "ipython",
    "version": 3
   },
   "file_extension": ".py",
   "mimetype": "text/x-python",
   "name": "python",
   "nbconvert_exporter": "python",
   "pygments_lexer": "ipython3",
   "version": "3.7.9"
  },
  "toc": {
   "base_numbering": 1,
   "nav_menu": {},
   "number_sections": true,
   "sideBar": true,
   "skip_h1_title": false,
   "title_cell": "Table of Contents",
   "title_sidebar": "Contents",
   "toc_cell": false,
   "toc_position": {},
   "toc_section_display": true,
   "toc_window_display": false
  }
 },
 "nbformat": 4,
 "nbformat_minor": 5
}
