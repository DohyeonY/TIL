{
  "cells": [
    {
      "cell_type": "code",
      "execution_count": null,
      "id": "c96c9b55",
      "metadata": {
        "id": "c96c9b55"
      },
      "outputs": [],
      "source": [
        "# 0720 homework #1 built-in 함수\n",
        "\n",
        "input()\n",
        "sum()\n",
        "print()\n",
        "len()\n",
        "list()\n",
        "map()"
      ]
    },
    {
      "cell_type": "code",
      "execution_count": 1,
      "id": "5f77b0a5",
      "metadata": {
        "colab": {
          "base_uri": "https://localhost:8080/"
        },
        "id": "5f77b0a5",
        "outputId": "29b87f8a-3880-4332-95b2-93a1b4382aee"
      },
      "outputs": [
        {
          "output_type": "stream",
          "name": "stdout",
          "text": [
            "1\n",
            "3\n",
            "5\n",
            "7\n",
            "9\n",
            "11\n",
            "13\n",
            "15\n",
            "17\n",
            "19\n",
            "21\n",
            "23\n",
            "25\n",
            "27\n",
            "29\n",
            "31\n",
            "33\n",
            "35\n",
            "37\n",
            "39\n",
            "41\n",
            "43\n",
            "45\n",
            "47\n",
            "49\n"
          ]
        }
      ],
      "source": [
        "# 0720 homework #2 홀수만 담기\n",
        "\n",
        "for i in range(1, 51):\n",
        "  a = list(range(1, 51))\n",
        "  if i % 2 == 1 :\n",
        "    print(i)"
      ]
    },
    {
      "cell_type": "code",
      "execution_count": 11,
      "id": "8a17b98e",
      "metadata": {
        "colab": {
          "base_uri": "https://localhost:8080/"
        },
        "id": "8a17b98e",
        "outputId": "a0aad721-086f-4b54-ca6e-ee731c558f43"
      },
      "outputs": [
        {
          "output_type": "stream",
          "name": "stdout",
          "text": [
            "*****\n",
            "*****\n",
            "*****\n",
            "*****\n",
            "*****\n",
            "*****\n",
            "*****\n",
            "*****\n",
            "*****\n"
          ]
        }
      ],
      "source": [
        "## 0720 홈워크 3. 반복문으로 네모 출력\n",
        "\n",
        "n = 5\n",
        "m = 9\n",
        "\n",
        "for i in range(9) :\n",
        "  for j in range(5) :\n",
        "    print('*', end='')\n",
        "\n",
        "  print()"
      ]
    },
    {
      "cell_type": "code",
      "source": [
        "## 0720 홈워크 4. 조건 표현식\n",
        "\n",
        "# temp = 36.5\n",
        "# if temp >= 37.5:\n",
        "#   print('입실 불가')\n",
        "# else:\n",
        "#   print('입실 가능')\n",
        "\n",
        "temp = 36.5\n",
        "\n",
        "a = '입실 불가' if temp >= 37.5 else '입실 가능'"
      ],
      "metadata": {
        "id": "QWasyoiFoFZp"
      },
      "id": "QWasyoiFoFZp",
      "execution_count": null,
      "outputs": []
    },
    {
      "cell_type": "code",
      "source": [
        "## 0720 홈워크 5. 정중앙 문자\n",
        "\n",
        "def get_middle_char(ssafy) :\n",
        "  alen = len(ssafy)\n",
        "  if alen % 2 == 1 :\n",
        "    return(ssafy[alen // 2])\n",
        "\n",
        "  else :\n",
        "    return(ssafy[alen//2-1 : alen//2+1])\n",
        "\n",
        "print(get_middle_char('ssafy'))\n",
        "print(get_middle_char('coding'))"
      ],
      "metadata": {
        "colab": {
          "base_uri": "https://localhost:8080/"
        },
        "id": "kRVYHnmGporu",
        "outputId": "8aeee98a-e6e7-49e1-fcc4-3ecd92e56721"
      },
      "id": "kRVYHnmGporu",
      "execution_count": 21,
      "outputs": [
        {
          "output_type": "stream",
          "name": "stdout",
          "text": [
            "a\n",
            "di\n"
          ]
        }
      ]
    },
    {
      "cell_type": "code",
      "source": [
        "coding"
      ],
      "metadata": {
        "id": "XNi4CgpUsTUh"
      },
      "id": "XNi4CgpUsTUh",
      "execution_count": null,
      "outputs": []
    }
  ],
  "metadata": {
    "kernelspec": {
      "display_name": "Python 3 (ipykernel)",
      "language": "python",
      "name": "python3"
    },
    "language_info": {
      "codemirror_mode": {
        "name": "ipython",
        "version": 3
      },
      "file_extension": ".py",
      "mimetype": "text/x-python",
      "name": "python",
      "nbconvert_exporter": "python",
      "pygments_lexer": "ipython3",
      "version": "3.7.9"
    },
    "toc": {
      "base_numbering": 1,
      "nav_menu": {},
      "number_sections": true,
      "sideBar": true,
      "skip_h1_title": false,
      "title_cell": "Table of Contents",
      "title_sidebar": "Contents",
      "toc_cell": false,
      "toc_position": {},
      "toc_section_display": true,
      "toc_window_display": false
    },
    "colab": {
      "name": "0720 homework ing.ipynb",
      "provenance": []
    }
  },
  "nbformat": 4,
  "nbformat_minor": 5
}